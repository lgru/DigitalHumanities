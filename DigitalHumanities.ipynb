{
 "cells": [
  {
   "cell_type": "markdown",
   "metadata": {
    "slideshow": {
     "slide_type": "slide"
    }
   },
   "source": [
    "<center>\n",
    "<font size=\"+2\"><b>Welcome to our</b></font><br><br>\n",
    "<font size=\"+7\"><b>Digital Media Exhibition</b></font><br>\n",
    "\n",
    "<br><br>\n",
    "\n",
    "<code>Digital Experience in the (digital) Humanities, 25.03.2023</code><br>\n",
    "\n",
    "\n",
    "<img width=\"400\" src=\"http://tdbowman.com/wp-content/uploads/2012/09/wordle.png\">\n",
    "\n",
    "<div class=\"alert alert-block alert-info\"> <b>Info:</b>\n",
    "Please use the arrows in the bottom right to navigate through the exhibition. Enjoy!\n",
    "</div>\n",
    "\n",
    "</center>"
   ]
  },
  {
   "cell_type": "markdown",
   "metadata": {
    "slideshow": {
     "slide_type": "slide"
    }
   },
   "source": [
    "<center>\n",
    "<h1>Click play, close your eyes, what do you see?</h1>\n",
    "\n",
    "<br><br>\n",
    "\n",
    "<audio width=\"320\" height=\"240\" \n",
    "       src=\"https://assets.mixkit.co/active_storage/sfx/2139/2139-preview.mp3\"  \n",
    "       controls>\n",
    "</audio>\n",
    "</center>"
   ]
  },
  {
   "cell_type": "markdown",
   "metadata": {
    "slideshow": {
     "slide_type": "subslide"
    }
   },
   "source": [
    "<center>\n",
    "<h1>When you look at this image, what do you hear?</h1>\n",
    "\n",
    "<br>\n",
    "\n",
    "<img width=\"400\" src=\"https://raw.githubusercontent.com/lgru/DigitalHumanities/gh-pages/img1.png\">\n",
    "</center>"
   ]
  },
  {
   "cell_type": "markdown",
   "metadata": {
    "slideshow": {
     "slide_type": "subslide"
    }
   },
   "source": [
    "<center>\n",
    "<h1>Look at the GIF, how do you feel?</h1>\n",
    "\n",
    "<br>\n",
    "\n",
    "<img width=\"400\" src=\"https://media.tenor.com/pJTikhNW3UgAAAAd/art-spin.gif\">\n",
    "</center>"
   ]
  },
  {
   "cell_type": "markdown",
   "metadata": {
    "slideshow": {
     "slide_type": "slide"
    }
   },
   "source": [
    "<center>\n",
    "<h1>Walter Benjamin</h1>\n",
    "<img width=\"200\" src=\"https://www.nationalww2museum.org/sites/default/files/styles/wide_medium/public/2020-09/benjamin1927Krull%20-%20Jason%20Dawsey.jpg\">\n",
    "\n",
    "<br>\n",
    "Walter Benjamin is one of the most significant cultural theorists and philosophers of media and technology.\n",
    "In his lifetime (1892 - 1940) he witnessed an astonishing amount of new inventions.\n",
    "What would you say are the most important technological developments in the time from 1880 to 1940?\n",
    "\n",
    "<br>\n",
    "\n",
    "<h4>Write your two most important inventions below.\n",
    "<br>\n",
    "<form action=\"/action_page.php\">\n",
    "  <input type=\"text\" id=\"finv\" name=\"finv\" value=\"\">\n",
    "  <input type=\"text\" id=\"sinv\" name=\"sinv\" value=\"\">\n",
    "  <input type=\"button\" value=\"Submit\">\n",
    "</form> \n",
    "\n",
    "<br>\n",
    "\n",
    "<div class=\"alert alert-block alert-info\"> \n",
    "<b>Info:</b>\n",
    "<a href=\"https://en.wikipedia.org/wiki/Timeline_of_historic_inventions\">Here</a> you find some inspirations from Wikipedia.\n",
    "</div>\n",
    "<br>\n",
    "<div class=\"alert alert-block alert-danger\"> \n",
    "<b>Not implemented:</b>\n",
    "After clicking submit, a live poll should be shown with the live answers from all students.\n",
    "</div>\n",
    "</center>"
   ]
  },
  {
   "cell_type": "markdown",
   "metadata": {
    "slideshow": {
     "slide_type": "slide"
    }
   },
   "source": [
    "<center>\n",
    "<h1>Artwork-Essay</h1>\n",
    "<img width=\"600\" src=\"https://raw.githubusercontent.com/lgru/DigitalHumanities/gh-pages/img2.png\">\n",
    "</center>"
   ]
  },
  {
   "cell_type": "markdown",
   "metadata": {
    "collapsed": true,
    "slideshow": {
     "slide_type": "subslide"
    }
   },
   "source": [
    "<center>\n",
    "<h1>Artwork-Essay II</h1><br>\n",
    "\n",
    "<em>\"Around 1900, technological reproduction not only had reached a standard that permitted it to reproduce all known world of art, profoundly modifying their effect, but it also had captured a place of its own among the artistic processes. In gauging this standard, we would do well to study the impact which its two different manifestations-the reproduction of artworks and the art of film-are having on art in its traditional form.\"</em>\n",
    "\n",
    "test\n",
    "\n",
    "<h4>What is the Difference between these two media experiences / artworks?<br>\n",
    "Write a comment <a href=\"https://tinyurl.com/bddwsp3v\">here</a>!</h4>\n",
    "</center>"
   ]
  },
  {
   "cell_type": "markdown",
   "metadata": {
    "slideshow": {
     "slide_type": "subslide"
    }
   },
   "source": [
    "<center>\n",
    "<h1>Artwork-Essay III</h1>\n",
    "<br>\n",
    "\n",
    "<em>\"Film makes test performances capable of being exhibited, by turning that ability itself into a test. The film actor performs not in front of an audience but in front of an apparatus. The film director occupies exactly the same position as the examiner in an aptitude test.\"</em>\n",
    "\t\t\n",
    "<h4>Test it yourself. Make a sad and a happy expression. Take a photo of the expressions.</h4>\n",
    "\n",
    "<h4>Check if you are happy with it and try again if you like it.</h4>\n",
    "</center>"
   ]
  },
  {
   "cell_type": "markdown",
   "metadata": {
    "slideshow": {
     "slide_type": "subslide"
    }
   },
   "source": [
    "<center>\n",
    "<h1>Artwork-Essay IV</h1>\n",
    "<br>\n",
    "\n",
    "<em>For the tasks which face the human apparatus of perception at historical turning points cannot be performed solely by optical means-that is, by way of contemplation. They are mastered gradually-taking their cue from tactile reception- through habit.</em>\n",
    "\t\t\n",
    "<h4>Play <a href=\"https://tinyurl.com/sdu7a774\">this</a> game.</h4>\n",
    "\n",
    "<h4>How many attempts did you need to get through the first level? What did you need to do to become better in the game?</h4>\n",
    "</center>"
   ]
  },
  {
   "cell_type": "markdown",
   "metadata": {
    "slideshow": {
     "slide_type": "slide"
    }
   },
   "source": [
    "<center>\n",
    "<h1>Aura</h1>\n",
    "<br>\n",
    "\n",
    "<em>One might focus these aspects of the artwork in the concept of the aura, and go on to say: what withers in the age of the technological reproducibility of the work of art is the latter's aura. This process is symptomatic; its significance extends far beyond the realm of art. It might be stated as a general formula that the technology of reproduction detaches the reproduced object from the sphere of tradition. By replicat- ing the work many times over, it substitutes a mass existence for a unique existence. And in permitting the reproduction to reach the recipient in his or her own situation, it actualizes that which is reproduced.</em><br>\n",
    "(Artwork-Essay)\n",
    "\n",
    "<h4>Think about this! Can you create here, right now an auratic and a non-auratic piece of art? If so, do it.</h4>\n",
    "</center>"
   ]
  },
  {
   "cell_type": "markdown",
   "metadata": {
    "slideshow": {
     "slide_type": "slide"
    }
   },
   "source": [
    "<center>\n",
    "<h1>Baudrillard</h1>\n",
    "<img width=\"200\" src=\"https://www.moderntimes.review/wp-content/uploads/2020/12/Jean-Baudrillard-1.jpg\">\n",
    "\n",
    "<br>\n",
    "Baudrillard was a central thinker of postmodernism, a tradition of thought that argued that reality and truth  can't simply be explained as a referential relationship to reality. Reality is for postmodernism a construct. Baudrillard became renown for his provocative and ant-intuitive claim <a href=\"https://tinyurl.com/4z5ebctb\">\"The Golf war never took place\"</a>.\n",
    "\n",
    "<h4>How does the following summary explain this claim? Does it make sense to you?</h4>\n",
    "</center>"
   ]
  },
  {
   "cell_type": "markdown",
   "metadata": {
    "slideshow": {
     "slide_type": "subslide"
    }
   },
   "source": [
    "<center>\n",
    "<h1>On Exactitude in Science</h1>\n",
    "<br>\n",
    "\n",
    "<iframe width=\"300\" height=\"200\" src=\"https://www.youtube.com/embed/Rup8v5-0lnE\" title=\"Exactitude Of Science\" frameborder=\"0\" allow=\"accelerometer; autoplay; clipboard-write; encrypted-media; gyroscope; picture-in-picture; web-share\" allowfullscreen></iframe>\n",
    "</center>"
   ]
  },
  {
   "cell_type": "markdown",
   "metadata": {
    "slideshow": {
     "slide_type": "subslide"
    }
   },
   "source": [
    "<center>\n",
    "<h1>Simulation</h1>\n",
    "<br>\n",
    "\n",
    "Abstraction today is no longer that of the map, the double, the mirror or the concept. Simulation is no longer that of a territory, a referential being or a substance. It is the generation by models of a real without origin or reality: a hyperreal.<br>\n",
    "(Baudrillard)\n",
    "<br>\n",
    "<img width=\"200\" src=\"https://unfoldlearning.files.wordpress.com/2016/09/simulcra-and-simulation.png\">\n",
    "<br>\n",
    "There is controversy about the question if the movie “The Matrix” is a representation of Baudrillard’s thoughts. The opening scene explicitly makes a reference to Baudrillard’s work by showing the cover of Baurillard’s most famous book “Simulacra and Simulation”.\n",
    "\n",
    "<h4>What do you think? Is the Matrix the hyperreal? Discuss with somebody next to you.</h4>\n",
    "</center>"
   ]
  },
  {
   "cell_type": "markdown",
   "metadata": {
    "slideshow": {
     "slide_type": "slide"
    }
   },
   "source": [
    "<center>\n",
    "<h1>Peter Bürger: Theory of the Avant-Garde</h1>\n",
    "<br><br>\n",
    "\n",
    "<audio width=\"320\" height=\"240\" \n",
    "       src=\"https://homepage.univie.ac.at/arndt.niebisch/memorygame/buerger.mp3\"  \n",
    "       controls>\n",
    "</audio>\n",
    "<br><br>\n",
    "<img width=\"400\" src=\"https://theotherroom.files.wordpress.com/2010/05/burgers-model.jpg\">\n",
    "<br>\n",
    "From Peter Bürger Theory of the avant-garde\n",
    "\n",
    "\n",
    "<h4>What are examples for Sacral, Courtly and Bourgeois Art? Could Sacral, Courtly or Bourgeois Art be Digital art? Discuss with somebody next to you.</h4>\n",
    "</center>"
   ]
  },
  {
   "cell_type": "markdown",
   "metadata": {
    "slideshow": {
     "slide_type": "slide"
    }
   },
   "source": [
    "<center>\n",
    "<h1>Metaverse</h1>\n",
    "<br>\n",
    "\n",
    "Here, then, is what I mean when I write and speak about the Metaverse: “A massively scaled and interoperable network of real- time rendered 3D virtual worlds that can be experienced synchronously and persistently by an effectively unlimited number of users with an individual sense of presence, and with continuity of data, such as identity, history, entitlements, objects, communications, and payments.” \n",
    "\n",
    "<h4>What are current examples of the metaverse?\n",
    "<br>\n",
    "<form action=\"/action_page.php\">\n",
    "  <input type=\"text\" id=\"finv\" name=\"finv\" value=\"\">\n",
    "  <input type=\"text\" id=\"sinv\" name=\"sinv\" value=\"\">\n",
    "  <input type=\"button\" value=\"Submit\">\n",
    "</form>\n",
    "<br><br>\n",
    "<div class=\"alert alert-block alert-danger\"> \n",
    "<b>Not implemented:</b>\n",
    "After clicking submit, a live poll should be shown with the live answers from all students.\n",
    "</div>\n",
    "</center>\n",
    "\n"
   ]
  },
  {
   "cell_type": "markdown",
   "metadata": {
    "slideshow": {
     "slide_type": "subslide"
    }
   },
   "source": [
    "<center>\n",
    "<h1>The Future of the Metaverse</h1>\n",
    "<br>\n",
    "\n",
    "Watch Zuckerberg's Vision.\n",
    "<br>\n",
    "<iframe width=\"300\" height=\"200\" src=\"https://www.youtube.com/embed/gElfIo6uw4g\" title=\"Everything Facebook revealed about the Metaverse in 11 minutes\" frameborder=\"0\" allow=\"accelerometer; autoplay; clipboard-write; encrypted-media; gyroscope; picture-in-picture; web-share\" allowfullscreen></iframe>\n",
    "\n",
    "<br><br>\n",
    "<h4>Think about possible new uses of the Metaverse. Put three ideas here:</h4>\n",
    "<form action=\"/action_page.php\">\n",
    "  <input type=\"text\" id=\"finv\" name=\"finv\" value=\"\">\n",
    "  <input type=\"text\" id=\"sinv\" name=\"sinv\" value=\"\">\n",
    "  <input type=\"text\" id=\"tinv\" name=\"tinv\" value=\"\">\n",
    "  <input type=\"button\" value=\"Submit\">\n",
    "</form>\n",
    "\n",
    "</center>\n",
    "\n"
   ]
  },
  {
   "cell_type": "markdown",
   "metadata": {
    "slideshow": {
     "slide_type": "slide"
    }
   },
   "source": [
    "<center>\n",
    "<h1>That’s it!</h1>\n",
    "<br>\n",
    "\n",
    "You went through the exhibit. Now, look at the previous slides again and check how the charts updated. Take a moment to think about what and how you just learned, and experienced new materials.\n",
    "\n",
    "</center>\n",
    "\n",
    "<br><br>\n",
    "\n",
    "<div class=\"alert alert-block alert-success\"> <b>Idea:</b>\n",
    "Another idea would be to summarize all charts from student responses here and not live on the previous sides...\n",
    "</div>"
   ]
  },
  {
   "cell_type": "code",
   "execution_count": null,
   "metadata": {
    "collapsed": true,
    "slideshow": {
     "slide_type": "skip"
    }
   },
   "outputs": [],
   "source": [
    "# !jupyter nbconvert DigitalHumanities.ipynb --to slides --post serve"
   ]
  },
  {
   "cell_type": "code",
   "execution_count": 6,
   "metadata": {
    "slideshow": {
     "slide_type": "skip"
    }
   },
   "outputs": [
    {
     "name": "stderr",
     "output_type": "stream",
     "text": [
      "[NbConvertApp] Converting notebook DigitalHumanities.ipynb to slides\n",
      "[NbConvertApp] Writing 265562 bytes to DigitalHumanities.slides.html\n"
     ]
    }
   ],
   "source": [
    "!jupyter nbconvert DigitalHumanities.ipynb --to slides --reveal-prefix=\"https://cdnjs.cloudflare.com/ajax/libs/reveal.js/3.5.0\"\n",
    "# !jupyter nbconvert DigitalHumanities.ipynb --to slides --reveal-prefix=\"https://revealjs.com\""
   ]
  }
 ],
 "metadata": {
  "celltoolbar": "Slideshow",
  "kernelspec": {
   "display_name": "Python 3",
   "language": "python",
   "name": "python3"
  },
  "language_info": {
   "codemirror_mode": {
    "name": "ipython",
    "version": 3
   },
   "file_extension": ".py",
   "mimetype": "text/x-python",
   "name": "python",
   "nbconvert_exporter": "python",
   "pygments_lexer": "ipython3",
   "version": "3.6.1"
  }
 },
 "nbformat": 4,
 "nbformat_minor": 2
}
